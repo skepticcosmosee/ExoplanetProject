{
 "cells": [
  {
   "cell_type": "code",
   "execution_count": null,
   "id": "42580da8",
   "metadata": {
    "vscode": {
     "languageId": "plaintext"
    }
   },
   "outputs": [],
   "source": [
    "print(\"Hello from Jupyter notebook in VS Code!\")\n"
   ]
  }
 ],
 "metadata": {
  "language_info": {
   "name": "python"
  }
 },
 "nbformat": 4,
 "nbformat_minor": 5
}
